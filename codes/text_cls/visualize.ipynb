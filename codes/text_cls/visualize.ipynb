{
 "cells": [
  {
   "cell_type": "code",
   "execution_count": 1,
   "metadata": {},
   "outputs": [],
   "source": [
    "import numpy as np\n",
    "import matplotlib.pyplot as plt\n",
    "import torch\n",
    "from net import Net\n",
    "from utils import *\n",
    "%matplotlib inline"
   ]
  },
  {
   "cell_type": "code",
   "execution_count": 2,
   "metadata": {},
   "outputs": [],
   "source": [
    "batch_size = 64\n",
    "max_vocab = 18280\n",
    "\n",
    "hidden_dim = 128\n",
    "num_layers = 2\n",
    "\n",
    "ckpt_path = \"./checkpoint/sst_20.pth\"\n",
    "data_root = \"./data\""
   ]
  },
  {
   "cell_type": "code",
   "execution_count": 3,
   "metadata": {},
   "outputs": [
    {
     "name": "stdout",
     "output_type": "stream",
     "text": [
      "[!] vocab_size: 18280, num_class: 5\n"
     ]
    }
   ],
   "source": [
    "# prepare SST dataset\n",
    "train_iter, val_iter, test_iter, sst_info = load_sst(batch_size, max_vocab)\n",
    "vocab_size = sst_info[\"vocab_size\"]\n",
    "num_class  = sst_info[\"num_class\"]\n",
    "TEXT = sst_info[\"TEXT\"]\n",
    "print(\"[!] vocab_size: {}, num_class: {}\".format(vocab_size, num_class))"
   ]
  },
  {
   "cell_type": "code",
   "execution_count": 4,
   "metadata": {},
   "outputs": [],
   "source": [
    "device = torch.device(\"cuda\" if torch.cuda.is_available() else \"cpu\")\n",
    "net = Net(TEXT, \n",
    "          hidden_dim,\n",
    "          num_layers, num_class).to(device)\n",
    "\n",
    "# load pre-trained model\n",
    "state_dict = torch.load(ckpt_path)\n",
    "net.load_state_dict(state_dict)"
   ]
  },
  {
   "cell_type": "code",
   "execution_count": 5,
   "metadata": {},
   "outputs": [
    {
     "name": "stderr",
     "output_type": "stream",
     "text": [
      "/home/nmhkahn/.venv3/lib/python3.6/site-packages/torchtext/data/field.py:322: UserWarning: volatile was removed and now has no effect. Use `with torch.no_grad():` instead.\n",
      "  return Variable(arr, volatile=not train)\n"
     ]
    }
   ],
   "source": [
    "net.eval()\n",
    "with torch.no_grad():\n",
    "    for step, inputs in enumerate(test_iter):\n",
    "        X = inputs.text.to(device)\n",
    "        y = inputs.label.to(device)\n",
    "        \n",
    "        pred_y = net(X)\n",
    "        _, pred_y = torch.max(pred_y.detach(), 1)\n",
    "\n",
    "        break # run only first batch"
   ]
  },
  {
   "cell_type": "code",
   "execution_count": 6,
   "metadata": {},
   "outputs": [],
   "source": [
    "def get_label_str(label, fine_grained=True):\n",
    "    pre = \"very\" if fine_grained else \"\"\n",
    "    return {0: pre + \" negative\", 1: \"negative\", 2: \"neutral\",\n",
    "            3: \"positive\", 4: pre + \" positive\", None: None}[label]\n",
    "\n",
    "\n",
    "def indices_to_string(indices, TEXT):\n",
    "    sentence = list()    \n",
    "    for idx in indices:\n",
    "        char = TEXT.vocab.itos[idx.item()]\n",
    "        \n",
    "        # ignore <pad> symbol\n",
    "        if char in [\"<pad>\"]:\n",
    "            continue\n",
    "\n",
    "        # no needs of space between the special symbols\n",
    "        if char[0] in [\"'\", \".\", \"?\", \"!\", \",\"]:\n",
    "            sentence[-1] += char\n",
    "        else:\n",
    "            sentence.append(char)\n",
    "        \n",
    "    return \" \".join(sentence)"
   ]
  },
  {
   "cell_type": "code",
   "execution_count": 7,
   "metadata": {},
   "outputs": [
    {
     "name": "stdout",
     "output_type": "stream",
     "text": [
      "Label           Predict         Text\n",
      "============================================================\n",
      "neutral         negative        Some actors steal scenes.\n",
      "very positive   very positive   A very bad sign.\n",
      "very positive   very positive   A dreadful live-action movie.\n",
      "negative        negative        But I was n't.\n",
      "neutral         negative        Largely a <unk> <unk>.\n",
      "neutral         negative        Both awful and appealing.\n",
      "neutral         very positive   It's a trifle.\n",
      "negative        negative        <unk> this is not.\n",
      "neutral         neutral         So I just did.\n",
      "positive        neutral         Much <unk> for all.\n",
      "positive        positive        well worth the time.\n",
      "neutral         very negative   Boisterous and daft documentary.\n",
      "very negative   positive        A vivid cinematic portrait.\n",
      "positive        positive        <unk> and ingenious entertainment.\n",
      "very negative   very negative   A pleasant romantic comedy.\n",
      "very negative   neutral         He's Super Spy!\n",
      "neutral         neutral         Bourne, Jason Bourne.\n",
      "positive        positive        Disturbing and brilliant documentary.\n",
      "neutral         neutral         Lucas, take notes.\n",
      "positive        very negative   <unk> and boldly provocative.\n",
      "very negative   negative        Is n't it great?\n",
      "positive        very negative   A wonderful <unk> comedy.\n",
      "positive        very negative   <unk> accessible and affecting.\n",
      "positive        positive        A very funny movie.\n",
      "very negative   neutral         A solidly <unk> chiller.\n",
      "very negative   very negative   An imaginative <unk>.\n",
      "negative        negative        I hate this movie\n",
      "very positive   negative        It's painful.\n",
      "negative        negative        Bears is bad.\n",
      "neutral         negative        just <unk> away.\n",
      "neutral         negative        This one does.\n",
      "neutral         neutral         Or a <unk>.\n",
      "very negative   negative        What's next?\n",
      "very positive   negative        A real clunker.\n",
      "neutral         neutral         I wonder why.\n",
      "neutral         very negative   It's haunting.\n",
      "neutral         neutral         Insomnia is involving.\n",
      "neutral         neutral         <unk> it out.\n",
      "very negative   very negative   <unk> to entertain!\n",
      "very negative   very negative   It's astonishing.\n",
      "neutral         negative        High on melodrama.\n",
      "neutral         very negative   It is now.\n",
      "negative        negative        Is this <unk>?\n",
      "positive        positive        I loved it!\n",
      "neutral         very negative   Effective but <unk> biopic\n",
      "negative        neutral         <unk>, Charlie\n",
      "negative        negative        <unk> point.\n",
      "very positive   negative        Extremely boring.\n",
      "negative        negative        Extremely confusing.\n",
      "very positive   negative        Extremely dumb.\n",
      "neutral         neutral         Big deal!\n",
      "neutral         negative        Anthony Hopkins?\n",
      "negative        neutral         No more.\n",
      "neutral         neutral         You bet.\n",
      "positive        neutral         <unk>!'\n",
      "positive        negative        Good actress.\n",
      "positive        negative        Good movie.\n",
      "neutral         neutral         No question.\n",
      "neutral         neutral         <unk>.\n",
      "very positive   neutral         <unk>.\n",
      "neutral         neutral         <unk>.\n",
      "negative        neutral         No..\n",
      "neutral         neutral         <unk>.\n",
      "neutral         neutral         Hopkins.\n"
     ]
    }
   ],
   "source": [
    "pprint = \"{0:15} {1:15} {2}\"\n",
    "print(pprint.format(\"Label\", \"Predict\", \"Text\"))\n",
    "print(\"=\"*60)\n",
    "\n",
    "for i in range(batch_size):\n",
    "    indices = X[:,i].cpu().numpy()\n",
    "    text_repr = indices_to_string(indices, TEXT)\n",
    "    \n",
    "    label_repr = get_label_str(y[i].item())\n",
    "    pred_repr = get_label_str(pred_y[i].item())\n",
    "    \n",
    "    print(pprint.format(label_repr, pred_repr, text_repr))"
   ]
  }
 ],
 "metadata": {
  "kernelspec": {
   "display_name": "Python 3",
   "language": "python",
   "name": "python3"
  },
  "language_info": {
   "codemirror_mode": {
    "name": "ipython",
    "version": 3
   },
   "file_extension": ".py",
   "mimetype": "text/x-python",
   "name": "python",
   "nbconvert_exporter": "python",
   "pygments_lexer": "ipython3",
   "version": "3.6.2"
  }
 },
 "nbformat": 4,
 "nbformat_minor": 2
}
